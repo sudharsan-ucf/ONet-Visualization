{
 "cells": [
  {
   "cell_type": "code",
   "execution_count": 112,
   "metadata": {},
   "outputs": [],
   "source": [
    "import os\n",
    "import pandas as pd\n",
    "import json\n",
    "\n",
    "skillsPath = os.path.join(os.curdir, 'data_ONet', 'db_26_1_text', 'Skills.txt')\n",
    "skillsData = pd.read_csv(skillsPath, sep='\\t')\n",
    "\n",
    "hospitalityPath = os.path.join(os.curdir, 'data_ONet', 'db_careerCluster', 'Hospitality_Tourism.csv')\n",
    "hospitalityData = pd.read_csv(hospitalityPath)\n",
    "hospitalityData = hospitalityData.set_index(\"Code\")\n",
    "hospitalityData = hospitalityData.transpose()\n",
    "hDict = hospitalityData.to_dict()\n",
    "\n",
    "\n",
    "for onetcode in hDict.keys():\n",
    "    for skill in skillsData[(skillsData['O*NET-SOC Code']==onetcode) & (skillsData['Scale ID']=='IM')]['Element Name'].values:\n",
    "        try:\n",
    "            hDict[onetcode]['skill'].append(skill)\n",
    "        except KeyError:\n",
    "            hDict[onetcode]['skill'] = [skill]\n",
    "\n",
    "\n",
    "hospitalityData = pd.DataFrame(hDict).transpose()\n",
    "hospitalityData.reset_index(inplace=True)\n",
    "hospitalityData = hospitalityData.rename(columns={'index':'Code'})\n",
    "hospitalityData = hospitalityData.set_index(\"Occupation\")\n",
    "hospitalityData = hospitalityData.transpose()\n",
    "hospitalityData.to_json(os.path.join('docs','data','hJson.json'))"
   ]
  }
 ],
 "metadata": {
  "interpreter": {
   "hash": "37b5c8bcdeb794cf9e1d66825c3703b7afc3f1365f03cf02f9baa17084a48cdd"
  },
  "kernelspec": {
   "display_name": "Python 3.10.2 64-bit ('jobvis': conda)",
   "language": "python",
   "name": "python3"
  },
  "language_info": {
   "codemirror_mode": {
    "name": "ipython",
    "version": 3
   },
   "file_extension": ".py",
   "mimetype": "text/x-python",
   "name": "python",
   "nbconvert_exporter": "python",
   "pygments_lexer": "ipython3",
   "version": "3.10.2"
  },
  "orig_nbformat": 4
 },
 "nbformat": 4,
 "nbformat_minor": 2
}
