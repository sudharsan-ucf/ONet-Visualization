{
 "cells": [
  {
   "cell_type": "code",
   "execution_count": 112,
   "metadata": {},
   "outputs": [],
   "source": [
    "import os\n",
    "import pandas as pd\n",
    "import json\n",
    "\n",
    "skillsPath = os.path.join(os.curdir, 'data_ONet', 'db_26_1_text', 'Skills.txt')\n",
    "skillsData = pd.read_csv(skillsPath, sep='\\t')\n",
    "\n",
    "hospitalityPath = os.path.join(os.curdir, 'data_ONet', 'db_careerCluster', 'Hospitality_Tourism.csv')\n",
    "hospitalityData = pd.read_csv(hospitalityPath)\n",
    "hospitalityData = hospitalityData.set_index(\"Code\")\n",
    "hospitalityData = hospitalityData.transpose()\n",
    "hDict = hospitalityData.to_dict()\n",
    "\n",
    "\n",
    "for onetcode in hDict.keys():\n",
    "    for skill in skillsData[(skillsData['O*NET-SOC Code']==onetcode) & (skillsData['Scale ID']=='IM')]['Element Name'].values:\n",
    "        try:\n",
    "            hDict[onetcode]['skill'].append(skill)\n",
    "        except KeyError:\n",
    "            hDict[onetcode]['skill'] = [skill]\n",
    "\n",
    "\n",
    "hospitalityData = pd.DataFrame(hDict).transpose()\n",
    "hospitalityData.reset_index(inplace=True)\n",
    "hospitalityData = hospitalityData.rename(columns={'index':'Code'})\n",
    "hospitalityData = hospitalityData.set_index(\"Occupation\")\n",
    "hospitalityData = hospitalityData.transpose()\n",
    "hospitalityData.to_json(os.path.join('docs','data','hJson.json'))"
   ]
  },
  {
   "cell_type": "markdown",
   "metadata": {},
   "source": [
    "# Processing skills data from Content Model Reference"
   ]
  },
  {
   "cell_type": "code",
   "execution_count": 82,
   "metadata": {},
   "outputs": [],
   "source": [
    "import os\n",
    "import pandas as pd\n",
    "\n",
    "skillsModelPath = os.path.join(os.curdir, 'data_ONet', 'db_26_1_text', 'Content Model Reference.txt')\n",
    "skillsModelData = pd.read_csv(skillsModelPath, sep='\\t')\n",
    "skillsModelData.set_index(\"Element ID\", inplace=True)\n",
    "skillsModelRawDict = skillsModelData.transpose().to_dict()\n",
    "skillsModelData.transpose()\n",
    "\n",
    "skillsModelJsonPath = os.path.join(os.curdir, 'docs', 'data', 'skillsModel.json')\n",
    "skillsModelData.to_json(skillsModelJsonPath)\n",
    "\n",
    "if False:\n",
    "    skillsModelDict = dict()\n",
    "    elementIDs = set(skillsModelRawDict.keys())\n",
    "    for elementID in elementIDs:\n",
    "        elementID_indices = elementID.split('.')\n",
    "        if len(elementID_indices) >= 1:\n",
    "            if elementID_indices[0] in skillsModelDict.keys():\n",
    "                pass\n",
    "            else:\n",
    "                skillsModelDict[elementID_indices[0]] = dict()\n",
    "                if len(elementID_indices) == 1:\n",
    "                    skillsModelDict[elementID_indices[0]]\n",
    "        if len(elementID_indices) >= 2:\n",
    "            if elementID_indices[1] in skillsModelDict[elementID_indices[0]].keys():\n",
    "                pass\n",
    "            else:\n",
    "                skillsModelDict[elementID_indices[0]][elementID_indices[1]] = dict()\n",
    "        if len(elementID_indices) >= 3:\n",
    "            if elementID_indices[2] in skillsModelDict[elementID_indices[0]][elementID_indices[1]].keys():\n",
    "                pass\n",
    "            else:\n",
    "                skillsModelDict[elementID_indices[0]][elementID_indices[1]][elementID_indices[2]] = dict()\n",
    "        if len(elementID_indices) >= 4:\n",
    "            if elementID_indices[3] in skillsModelDict[elementID_indices[0]][elementID_indices[1]][elementID_indices[2]].keys():\n",
    "                pass\n",
    "            else:\n",
    "                skillsModelDict[elementID_indices[0]][elementID_indices[1]][elementID_indices[2]][elementID_indices[3]] = dict()\n",
    "        if len(elementID_indices) >= 5:\n",
    "            if elementID_indices[4] in skillsModelDict[elementID_indices[0]][elementID_indices[1]][elementID_indices[2]][elementID_indices[3]].keys():\n",
    "                pass\n",
    "            else:\n",
    "                skillsModelDict[elementID_indices[0]][elementID_indices[1]][elementID_indices[2]][elementID_indices[3]][elementID_indices[4]] = dict()\n",
    "        if len(elementID_indices) >= 6:\n",
    "            if elementID_indices[5] in skillsModelDict[elementID_indices[0]][elementID_indices[1]][elementID_indices[2]][elementID_indices[3]][elementID_indices[4]].keys():\n",
    "                pass\n",
    "            else:\n",
    "                skillsModelDict[elementID_indices[0]][elementID_indices[1]][elementID_indices[2]][elementID_indices[3]][elementID_indices[4]][elementID_indices[5]] = dict()\n",
    "        if len(elementID_indices) >= 7:\n",
    "            if elementID_indices[6] in skillsModelDict[elementID_indices[0]][elementID_indices[1]][elementID_indices[2]][elementID_indices[3]][elementID_indices[4]][elementID_indices[5]].keys():\n",
    "                pass\n",
    "            else:\n",
    "                skillsModelDict[elementID_indices[0]][elementID_indices[1]][elementID_indices[2]][elementID_indices[3]][elementID_indices[4]][elementID_indices[5]][elementID_indices[6]] = dict()\n",
    "        if len(elementID_indices) >= 8:\n",
    "            if elementID_indices[7] in skillsModelDict[elementID_indices[0]][elementID_indices[1]][elementID_indices[2]][elementID_indices[3]][elementID_indices[4]][elementID_indices[5]][elementID_indices[6]].keys():\n",
    "                pass\n",
    "            else:\n",
    "                skillsModelDict[elementID_indices[0]][elementID_indices[1]][elementID_indices[2]][elementID_indices[3]][elementID_indices[4]][elementID_indices[5]][elementID_indices[6]][elementID_indices[7]] = dict()\n"
   ]
  }
 ],
 "metadata": {
  "interpreter": {
   "hash": "37b5c8bcdeb794cf9e1d66825c3703b7afc3f1365f03cf02f9baa17084a48cdd"
  },
  "kernelspec": {
   "display_name": "Python 3.10.2 64-bit ('jobvis': conda)",
   "language": "python",
   "name": "python3"
  },
  "language_info": {
   "codemirror_mode": {
    "name": "ipython",
    "version": 3
   },
   "file_extension": ".py",
   "mimetype": "text/x-python",
   "name": "python",
   "nbconvert_exporter": "python",
   "pygments_lexer": "ipython3",
   "version": "3.10.2"
  },
  "orig_nbformat": 4
 },
 "nbformat": 4,
 "nbformat_minor": 2
}
